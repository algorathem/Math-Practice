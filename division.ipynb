{
  "cells": [
    {
      "cell_type": "markdown",
      "metadata": {
        "id": "view-in-github",
        "colab_type": "text"
      },
      "source": [
        "<a href=\"https://colab.research.google.com/github/algorathem/Math-Practice/blob/main/division.ipynb\" target=\"_parent\"><img src=\"https://colab.research.google.com/assets/colab-badge.svg\" alt=\"Open In Colab\"/></a>"
      ]
    },
    {
      "cell_type": "code",
      "execution_count": null,
      "metadata": {
        "id": "t9O0a3RjULmE"
      },
      "outputs": [],
      "source": [
        "#Import the libraries\n",
        "import random\n",
        "from IPython.display import Audio, display\n",
        "\n",
        "#Uncomment for Audio Feedback\n",
        "\n",
        "# import os\n",
        "# from google.colab import drive\n",
        "# drive.mount('/content/drive')\n",
        "# from google.colab import files\n",
        "# uploaded = files.upload()\n",
        "\n",
        "#Main Program\n",
        "print(\"Welcome to the Daily Math Practice! Get ready to cast some multiplication & division spells!\\nTip: Feeling overwhelmed by a spell? Simply type 999 to exit the practice session.\\n\")\n",
        "\n",
        "ops = [\"/\"]\n",
        "\n",
        "while True:\n",
        "    number = random.randint(2,81)\n",
        "    for i in range (2, (number//2)+1):\n",
        "        if number % i == 0:\n",
        "            digit1 = number\n",
        "\n",
        "    digit2 = random.randint(2, 9)\n",
        "\n",
        "    operation = random.choice(ops)\n",
        "\n",
        "    while operation == \"/\" and digit1 % digit2 != 0:\n",
        "        digit2 = random.randint(2,9)\n",
        "\n",
        "    answer = eval(f\"{digit1} {operation} {digit2}\")\n",
        "\n",
        "    print(f\"What is {digit1} {operation} {digit2} ?\")\n",
        "\n",
        "    user_answer = float(input(\"Enter a number: \"))\n",
        "\n",
        "    if user_answer == answer:\n",
        "        print(\"\\nGood Job, Darren! Your answer is correct.\\n\") #Insert name here for personalisation\n",
        "        # display(Audio(filename=\"correct.wav\", autoplay=True))\n",
        "\n",
        "    elif user_answer == 999:\n",
        "        print(\"Remember, practice makes perfect! See you soon for another Daily Math Practice session!\")\n",
        "        break\n",
        "\n",
        "    else:\n",
        "        print(f\"\\n{digit1} {operation} {digit2} = {answer}. Remember the answer. Let's try the next question!\")\n",
        "        # display(Audio(filename=\"incorrect.wav\", autoplay=True))\n"
      ]
    }
  ],
  "metadata": {
    "colab": {
      "provenance": [],
      "authorship_tag": "ABX9TyMQXkmLHyiK4xfcd68BboYz",
      "include_colab_link": true
    },
    "kernelspec": {
      "display_name": "Python 3",
      "name": "python3"
    },
    "language_info": {
      "name": "python"
    }
  },
  "nbformat": 4,
  "nbformat_minor": 0
}