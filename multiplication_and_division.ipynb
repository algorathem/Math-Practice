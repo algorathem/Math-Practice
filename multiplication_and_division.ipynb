{
  "nbformat": 4,
  "nbformat_minor": 0,
  "metadata": {
    "colab": {
      "provenance": [],
      "authorship_tag": "ABX9TyPZ+wHYPoXja2tv2m7Qk5Vp",
      "include_colab_link": true
    },
    "kernelspec": {
      "name": "python3",
      "display_name": "Python 3"
    },
    "language_info": {
      "name": "python"
    }
  },
  "cells": [
    {
      "cell_type": "markdown",
      "metadata": {
        "id": "view-in-github",
        "colab_type": "text"
      },
      "source": [
        "<a href=\"https://colab.research.google.com/github/algorathem/Math-Practice/blob/main/multiplication_and_division.ipynb\" target=\"_parent\"><img src=\"https://colab.research.google.com/assets/colab-badge.svg\" alt=\"Open In Colab\"/></a>"
      ]
    },
    {
      "cell_type": "code",
      "execution_count": 2,
      "metadata": {
        "id": "0vZyAriBR2O4"
      },
      "outputs": [],
      "source": [
        "#Import the libraries\n",
        "import random"
      ]
    },
    {
      "cell_type": "code",
      "source": [
        "#Initialize Variables\n",
        "corrects = 0\n",
        "wrongs = 0\n",
        "attempted = 0"
      ],
      "metadata": {
        "id": "C1WWlCD9SGMh"
      },
      "execution_count": 3,
      "outputs": []
    },
    {
      "cell_type": "code",
      "source": [
        "#Main Program\n",
        "print(\"Math game\\n\")\n",
        "\n",
        "ops = [\"/\", \"*\"]\n",
        "\n",
        "while True:\n",
        "    digit1 = random.randint(0, 11)\n",
        "    digit2 = random.randint(1, 11)\n",
        "    operation = random.choice(ops)\n",
        "\n",
        "    while digit1 % digit2 != 0 and operation ==\"/\":\n",
        "        digit1=random.randint(0,10)\n",
        "\n",
        "    answer = eval(f\"{digit1} {operation} {digit2}\")\n",
        "\n",
        "    print(f\"What is {digit1} {operation} {digit2} ?\")\n",
        "\n",
        "    user_answer = float(input(\"Enter the answer: \"))\n",
        "\n",
        "    if user_answer == answer:\n",
        "        corrects += 1\n",
        "        print(\"\\nGood job! Your answer is correct.\\n\")\n",
        "\n",
        "    else:\n",
        "        wrongs += 1\n",
        "        print(f\"\\nYour answer is wrong. According to my calculations, the answer is {answer}\")\n",
        "\n",
        "    attempted += 1\n",
        "\n",
        "    # while attempted == 10:\n",
        "    #     print(f\"You got {corrects} correct and {wrongs} wrong out of {attempted}\")\n",
        "    #     quit()\n",
        ""
      ],
      "metadata": {
        "colab": {
          "base_uri": "https://localhost:8080/"
        },
        "id": "t9O0a3RjULmE",
        "outputId": "478cc97a-8912-499d-bd2b-b8e3bdb20c22"
      },
      "execution_count": null,
      "outputs": [
        {
          "output_type": "stream",
          "name": "stdout",
          "text": [
            "Math game\n",
            "\n",
            "What is 5 * 5 ?\n",
            "Enter the answer: 25\n",
            "\n",
            "Good job! Your answer is correct.\n",
            "\n",
            "What is 0 / 7 ?\n",
            "Enter the answer: 0\n",
            "\n",
            "Good job! Your answer is correct.\n",
            "\n",
            "What is 9 / 3 ?\n",
            "Enter the answer: 3\n",
            "\n",
            "Good job! Your answer is correct.\n",
            "\n",
            "What is 6 / 6 ?\n",
            "Enter the answer: 1\n",
            "\n",
            "Good job! Your answer is correct.\n",
            "\n",
            "What is 0 * 3 ?\n",
            "Enter the answer: 0\n",
            "\n",
            "Good job! Your answer is correct.\n",
            "\n",
            "What is 7 * 8 ?\n",
            "Enter the answer: 56\n",
            "\n",
            "Good job! Your answer is correct.\n",
            "\n",
            "What is 9 / 9 ?\n",
            "Enter the answer: 1\n",
            "\n",
            "Good job! Your answer is correct.\n",
            "\n",
            "What is 0 / 9 ?\n",
            "Enter the answer: 0\n",
            "\n",
            "Good job! Your answer is correct.\n",
            "\n",
            "What is 7 * 9 ?\n",
            "Enter the answer: 63\n",
            "\n",
            "Good job! Your answer is correct.\n",
            "\n",
            "What is 0 * 9 ?\n",
            "Enter the answer: 0\n",
            "\n",
            "Good job! Your answer is correct.\n",
            "\n",
            "What is 5 / 5 ?\n",
            "Enter the answer: 25\n",
            "\n",
            "Your answer is wrong. According to my calculations, the answer is 1.0\n",
            "What is 1 * 1 ?\n",
            "Enter the answer: 1\n",
            "\n",
            "Good job! Your answer is correct.\n",
            "\n",
            "What is 2 / 2 ?\n",
            "Enter the answer: 1\n",
            "\n",
            "Good job! Your answer is correct.\n",
            "\n",
            "What is 3 / 3 ?\n"
          ]
        }
      ]
    }
  ]
}