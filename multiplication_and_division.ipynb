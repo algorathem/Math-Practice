{
  "cells": [
    {
      "cell_type": "markdown",
      "metadata": {
        "id": "view-in-github",
        "colab_type": "text"
      },
      "source": [
        "<a href=\"https://colab.research.google.com/github/algorathem/Math-Practice/blob/main/multiplication_and_division.ipynb\" target=\"_parent\"><img src=\"https://colab.research.google.com/assets/colab-badge.svg\" alt=\"Open In Colab\"/></a>"
      ]
    },
    {
      "cell_type": "code",
      "execution_count": null,
      "metadata": {
        "id": "t9O0a3RjULmE",
        "colab": {
          "base_uri": "https://localhost:8080/"
        },
        "outputId": "d5eddfa3-a425-4274-8a7b-7e37e3a0e9c6"
      },
      "outputs": [
        {
          "output_type": "stream",
          "name": "stdout",
          "text": [
            "Welcome to the Daily Math Practice! Get ready to cast some multiplication & division spells!\n",
            "Tip: Feeling overwhelmed by a spell? Simply type 999 to exit the practice session.\n",
            "\n",
            "What is 8 * 6 ?\n",
            "Enter a number: 48\n",
            "\n",
            "Good Job! Your answer is correct.\n",
            "\n",
            "What is 6 * 8 ?\n",
            "Enter a number: 2\n",
            "\n",
            "6 * 8 = 48. Remember the answer. Let's try the next question!\n",
            "What is 8 * 6 ?\n"
          ]
        }
      ],
      "source": [
        "#Import the libraries\n",
        "import random\n",
        "from IPython.display import Audio, display\n",
        "\n",
        "#Main Program\n",
        "print(\"Welcome to the Daily Math Practice! Get ready to cast some multiplication & division spells!\\nTip: Feeling overwhelmed by a spell? Simply type 999 to exit the practice session.\\n\")\n",
        "\n",
        "ops = [\"/\", \"*\"]\n",
        "\n",
        "\n",
        "while True:\n",
        "    digit1 = random.randint(6, 8)\n",
        "    digit2 = random.randint(6, 8)\n",
        "    operation = random.choice(ops)\n",
        "\n",
        "    while digit1 % digit2 != 0 and operation ==\"/\":\n",
        "        digit1=random.randint(6,8)\n",
        "\n",
        "    answer = eval(f\"{digit1} {operation} {digit2}\")\n",
        "\n",
        "    print(f\"What is {digit1} {operation} {digit2} ?\")\n",
        "\n",
        "    user_answer = float(input(\"Enter a number: \"))\n",
        "\n",
        "    if user_answer == answer:\n",
        "        print(\"\\nGood Job! Your answer is correct.\\n\")\n",
        "        # display(Audio(filename=\"correct.wav\", autoplay=True))\n",
        "\n",
        "    elif user_answer == 999:\n",
        "        print(\"Remember, practice makes perfect! See you soon for another Daily Math Practice session!\")\n",
        "        break\n",
        "\n",
        "    else:\n",
        "        print(f\"\\n{digit1} {operation} {digit2} = {answer}. Remember the answer. Let's try the next question!\")\n",
        "        # display(Audio(filename=\"incorrect.wav\", autoplay=True))\n",
        "\n"
      ]
    }
  ],
  "metadata": {
    "colab": {
      "provenance": [],
      "authorship_tag": "ABX9TyODiwPB0oYq19aHF6fpleHx",
      "include_colab_link": true
    },
    "kernelspec": {
      "display_name": "Python 3",
      "name": "python3"
    },
    "language_info": {
      "name": "python"
    }
  },
  "nbformat": 4,
  "nbformat_minor": 0
}