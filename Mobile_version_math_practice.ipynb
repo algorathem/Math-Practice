{
  "cells": [
    {
      "cell_type": "markdown",
      "metadata": {
        "id": "view-in-github",
        "colab_type": "text"
      },
      "source": [
        "<a href=\"https://colab.research.google.com/github/algorathem/Math-Practice/blob/main/Mobile_version_math_practice.ipynb\" target=\"_parent\"><img src=\"https://colab.research.google.com/assets/colab-badge.svg\" alt=\"Open In Colab\"/></a>"
      ]
    },
    {
      "cell_type": "code",
      "execution_count": null,
      "metadata": {
        "colab": {
          "background_save": true
        },
        "id": "HU1yR7NYTUUL"
      },
      "outputs": [],
      "source": [
        "#Connect drive\n",
        "from google.colab import drive\n",
        "drive.mount('/content/gdrive', force_remount=True)\n",
        "from google.colab import files\n",
        "root_dir = \"gdrive/MyDrive/\"\n",
        "base_dir = root_dir + 'Audio-Feedback/'\n",
        "\n",
        "#Import the libraries\n",
        "import random\n",
        "from IPython.display import Audio, display\n",
        "\n",
        "#Main Program\n",
        "print(\"Welcome to the Daily Math Practice!\\nGet ready to cast some multiplication & division spells!\\nTip: Feeling overwhelmed by a spell?\\nSimply type 999 to exit the practice session.\\n\")\n",
        "\n",
        "ops = [\"/\", \"*\"]\n",
        "\n",
        "while True:\n",
        "    digit1 = random.randint(0, 11)\n",
        "    digit2 = random.randint(1, 11)\n",
        "    operation = random.choice(ops)\n",
        "\n",
        "    while digit1 % digit2 != 0 and operation ==\"/\":\n",
        "        digit1=random.randint(0,10)\n",
        "\n",
        "    answer = eval(f\"{digit1} {operation} {digit2}\")\n",
        "\n",
        "    print(f\"What is {digit1} {operation} {digit2} ?\")\n",
        "\n",
        "    user_answer = float(input(\"Enter a number: \"))\n",
        "\n",
        "    if user_answer == answer:\n",
        "        print(\"\\nGood Job! Your answer is correct.\\n\")\n",
        "        display(Audio(filename=\"correct.wav\", autoplay=True))\n",
        "\n",
        "    elif user_answer == 999:\n",
        "        print(\"Remember, practice makes perfect!\\nSee you soon for another Daily Math Practice session!\")\n",
        "        break\n",
        "\n",
        "    else:\n",
        "        print(f\"\\nEven robots make mistakes sometimes...\\nbut that's how we learn!\\nThe correct answer is {answer}.\\nLet's try the next question!\")\n",
        "        display(Audio(filename=\"incorrect.wav\", autoplay=True))\n",
        "\n"
      ]
    },
    {
      "cell_type": "code",
      "execution_count": null,
      "metadata": {
        "id": "oM85w5Tdbjqx"
      },
      "outputs": [],
      "source": []
    }
  ],
  "metadata": {
    "colab": {
      "provenance": [],
      "mount_file_id": "1V17nkv9Atqdo3vn97weA-3wqYipKwEse",
      "authorship_tag": "ABX9TyOvghnaeJ9SmirjbQYPFhH0",
      "include_colab_link": true
    },
    "kernelspec": {
      "display_name": "Python 3",
      "name": "python3"
    },
    "language_info": {
      "name": "python"
    }
  },
  "nbformat": 4,
  "nbformat_minor": 0
}