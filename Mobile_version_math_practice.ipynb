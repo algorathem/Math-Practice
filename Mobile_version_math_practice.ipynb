{
  "nbformat": 4,
  "nbformat_minor": 0,
  "metadata": {
    "colab": {
      "provenance": [],
      "authorship_tag": "ABX9TyMND5S9GrFILHsocqi2UB2g",
      "include_colab_link": true
    },
    "kernelspec": {
      "name": "python3",
      "display_name": "Python 3"
    },
    "language_info": {
      "name": "python"
    }
  },
  "cells": [
    {
      "cell_type": "markdown",
      "metadata": {
        "id": "view-in-github",
        "colab_type": "text"
      },
      "source": [
        "<a href=\"https://colab.research.google.com/github/algorathem/Math-Practice/blob/main/Mobile_version_math_practice.ipynb\" target=\"_parent\"><img src=\"https://colab.research.google.com/assets/colab-badge.svg\" alt=\"Open In Colab\"/></a>"
      ]
    },
    {
      "cell_type": "code",
      "source": [
        "#Import the libraries\n",
        "import random\n",
        "from IPython.display import Audio, display\n",
        "\n",
        "#Main Program\n",
        "print(\"Welcome to the Daily Math Practice!\\nGet ready to cast some multiplication & division spells!\\nTip: Feeling overwhelmed by a spell?\\nSimply type 999 to exit the practice session.\\n\")\n",
        "\n",
        "ops = [\"/\", \"*\"]\n",
        "\n",
        "while True:\n",
        "    digit1 = random.randint(0, 11)\n",
        "    digit2 = random.randint(1, 11)\n",
        "    operation = random.choice(ops)\n",
        "\n",
        "    while digit1 % digit2 != 0 and operation ==\"/\":\n",
        "        digit1=random.randint(0,10)\n",
        "\n",
        "    answer = eval(f\"{digit1} {operation} {digit2}\")\n",
        "\n",
        "    print(f\"What is {digit1} {operation} {digit2} ?\")\n",
        "\n",
        "    user_answer = float(input(\"Enter a number: \"))\n",
        "\n",
        "    if user_answer == answer:\n",
        "        print(\"\\nGood Job! Your answer is correct.\\n\")\n",
        "        # display(Audio(filename=\"correct.wav\", autoplay=True))\n",
        "\n",
        "    elif user_answer == 999:\n",
        "        print(\"Remember, practice makes perfect! See you soon for another Daily Math Practice session!\")\n",
        "        break\n",
        "\n",
        "    else:\n",
        "        print(f\"\\nEven robots make mistakes sometimes,\\nbut that's how we learn!\\nThe correct answer is {answer}.\\nLet's try the next question!\")\n",
        "        # display(Audio(filename=\"incorrect.wav\", autoplay=True))\n",
        "\n"
      ],
      "metadata": {
        "id": "HU1yR7NYTUUL"
      },
      "execution_count": null,
      "outputs": []
    }
  ]
}